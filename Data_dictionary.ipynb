{
 "cells": [
  {
   "cell_type": "code",
   "execution_count": 1,
   "metadata": {},
   "outputs": [],
   "source": [
    "import jinja2\n",
    "import types\n",
    "from elasticsearch import Elasticsearch\n",
    "import datetime\n",
    "from bson.objectid import ObjectId\n",
    "import pandas as pd\n",
    "from pymongo import MongoClient\n",
    "import os\n",
    "import sys\n",
    "from importlib import reload\n",
    "import os.path\n",
    "from os import path\n",
    "import json\n",
    "from random import randint"
   ]
  },
  {
   "cell_type": "code",
   "execution_count": 2,
   "metadata": {},
   "outputs": [],
   "source": [
    "sys.path.append('..') #agregar directorio madre del repo para poder importar librerias customizadas\n",
    "#importar librerias customizadas"
   ]
  },
  {
   "cell_type": "code",
   "execution_count": 3,
   "metadata": {},
   "outputs": [
    {
     "data": {
      "text/plain": [
       "<module 'modules.Elastic_Module' from '/home/francisco/Desktop/repos/data-dictionary/modules/Elastic_Module.py'>"
      ]
     },
     "execution_count": 3,
     "metadata": {},
     "output_type": "execute_result"
    }
   ],
   "source": [
    "import modules.Elastic_Module\n",
    "reload(modules.Elastic_Module)"
   ]
  },
  {
   "cell_type": "code",
   "execution_count": 4,
   "metadata": {},
   "outputs": [],
   "source": [
    "from modules.Elastic_Module import *"
   ]
  },
  {
   "cell_type": "code",
   "execution_count": 96,
   "metadata": {},
   "outputs": [],
   "source": [
    "import modules.rst_utils\n",
    "reload(modules.rst_utils)\n",
    "from modules.rst_utils import * #modulo para generar archivos rst de documentación"
   ]
  },
  {
   "cell_type": "code",
   "execution_count": 41,
   "metadata": {},
   "outputs": [],
   "source": [
    "#variables de entorno\n",
    "args={}\n",
    "args['elastic_user']='elastic'\n",
    "args['elastic_psswd']=''"
   ]
  },
  {
   "cell_type": "code",
   "execution_count": 27,
   "metadata": {},
   "outputs": [
    {
     "name": "stdout",
     "output_type": "stream",
     "text": [
      "True\n"
     ]
    }
   ],
   "source": [
    "ES_HOST = \"\"\n",
    "basic_auth={'user':args['elastic_user'], 'psswd':args['elastic_psswd']}\n",
    "es=elastic_connection(ES_HOST,basic_auth=basic_auth)\n",
    "es.ping()"
   ]
  },
  {
   "cell_type": "code",
   "execution_count": 80,
   "metadata": {},
   "outputs": [],
   "source": [
    "blacklist1=['ckan','.kibana_task_manager','kibana_sample_data_flights','.security-7','.kibana_1','transacciones_cha']"
   ]
  },
  {
   "cell_type": "code",
   "execution_count": 81,
   "metadata": {
    "scrolled": true
   },
   "outputs": [],
   "source": [
    "blacklist2=['sucursales_cha','ckan_bare','.kibana_task_manager','kibana_sample_data_flights','.security-7','.kibana_1','transacciones_cha']"
   ]
  },
  {
   "cell_type": "code",
   "execution_count": 44,
   "metadata": {},
   "outputs": [
    {
     "name": "stdout",
     "output_type": "stream",
     "text": [
      "\u001b[0m\u001b[01;34mtables\u001b[0m/\r\n"
     ]
    }
   ],
   "source": [
    "ls source/_sections/_static/"
   ]
  },
  {
   "cell_type": "code",
   "execution_count": 87,
   "metadata": {},
   "outputs": [],
   "source": [
    "args={'data_dict_title':'Example Data Dictionary', \n",
    "      'rootdir':\"_static/\",\n",
    "      'source_path':\"source/index.rst\",\n",
    "      'sections_path':\"source/_sections/{}.rst\",\n",
    "      'dbpaths':\"<../_sections/{}>\",\n",
    "      'INDEXpaths':\"<../_sections/{}>\",\n",
    "      'tables_rst_path':\"../_static/tables/{}.html\",\n",
    "      'actual_tables_path':'source/_static/tables/{}.html',\n",
    "      \n",
    "      'index_template':'templates/index.rst',\n",
    "                    'section_template':'templates/section.rst',\n",
    "                    'sections_template':'templates/sections.rst',\n",
    "      'sep':'---',\n",
    "      \n",
    "      'DBases':{ 1: {\n",
    "          \n",
    "          'DBname':'Elasticsearch',\n",
    "          'DBconnection': es,\n",
    "          'blacklist':blacklist1,\n",
    "          'DBdescription':'First DB Example'\n",
    "          \n",
    "          \n",
    "      },  2:{\n",
    "                \n",
    "          'DBname':'Elasticsearch 2',\n",
    "          'DBconnection': es,\n",
    "          'blacklist':blacklist2,\n",
    "          'DBdescription':'Second DB Example'\n",
    "                   \n",
    "         }\n",
    "          \n",
    "      }\n",
    "     }"
   ]
  },
  {
   "cell_type": "code",
   "execution_count": 97,
   "metadata": {},
   "outputs": [
    {
     "name": "stdout",
     "output_type": "stream",
     "text": [
      "saving table: source/_static/tables/Elasticsearch-ckan_bare.html\n",
      "saving table: source/_static/tables/Elasticsearch-cha_sucursales.html\n",
      "saving table: source/_static/tables/Elasticsearch_2-ckan.html\n",
      "saving table: source/_static/tables/Elasticsearch_2-cha_sucursales.html\n"
     ]
    }
   ],
   "source": [
    "DD=rst(args)"
   ]
  }
 ],
 "metadata": {
  "kernelspec": {
   "display_name": "Python 3",
   "language": "python",
   "name": "python3"
  },
  "language_info": {
   "codemirror_mode": {
    "name": "ipython",
    "version": 3
   },
   "file_extension": ".py",
   "mimetype": "text/x-python",
   "name": "python",
   "nbconvert_exporter": "python",
   "pygments_lexer": "ipython3",
   "version": "3.7.3"
  }
 },
 "nbformat": 4,
 "nbformat_minor": 2
}
