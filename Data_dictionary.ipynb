{
 "cells": [
  {
   "cell_type": "code",
   "execution_count": 1,
   "metadata": {},
   "outputs": [],
   "source": [
    "import jinja2\n",
    "import types\n",
    "from elasticsearch import Elasticsearch\n",
    "import datetime\n",
    "from bson.objectid import ObjectId\n",
    "import pandas as pd\n",
    "from pymongo import MongoClient\n",
    "import os\n",
    "import sys\n",
    "from importlib import reload\n",
    "import os.path\n",
    "from os import path\n",
    "import json\n",
    "from random import randint"
   ]
  },
  {
   "cell_type": "code",
   "execution_count": 2,
   "metadata": {},
   "outputs": [],
   "source": [
    "sys.path.append('..') #agregar directorio madre del repo para poder importar librerias customizadas\n",
    "#importar librerias customizadas"
   ]
  },
  {
   "cell_type": "code",
   "execution_count": 3,
   "metadata": {},
   "outputs": [
    {
     "data": {
      "text/plain": [
       "<module 'modules.Elastic_Module' from '/home/francisco/Desktop/repos/data-dictionary/modules/Elastic_Module.py'>"
      ]
     },
     "execution_count": 3,
     "metadata": {},
     "output_type": "execute_result"
    }
   ],
   "source": [
    "import modules.Elastic_Module\n",
    "reload(modules.Elastic_Module)"
   ]
  },
  {
   "cell_type": "code",
   "execution_count": 4,
   "metadata": {},
   "outputs": [],
   "source": [
    "from modules.Elastic_Module import *"
   ]
  },
  {
   "cell_type": "code",
   "execution_count": 123,
   "metadata": {},
   "outputs": [],
   "source": [
    "import modules.rst_utils\n",
    "reload(modules.rst_utils)\n",
    "from modules.rst_utils import * #modulo para generar archivos rst de documentación"
   ]
  },
  {
   "cell_type": "code",
   "execution_count": 41,
   "metadata": {},
   "outputs": [],
   "source": [
    "#variables de entorno\n",
    "args={}\n",
    "args['elastic_user']='elastic'\n",
    "args['elastic_psswd']=''"
   ]
  },
  {
   "cell_type": "code",
   "execution_count": 27,
   "metadata": {},
   "outputs": [
    {
     "name": "stdout",
     "output_type": "stream",
     "text": [
      "True\n"
     ]
    }
   ],
   "source": [
    "ES_HOST = \"\"\n",
    "basic_auth={'user':args['elastic_user'], 'psswd':args['elastic_psswd']}\n",
    "es=elastic_connection(ES_HOST,basic_auth=basic_auth)\n",
    "es.ping()"
   ]
  },
  {
   "cell_type": "code",
   "execution_count": 80,
   "metadata": {},
   "outputs": [],
   "source": [
    "blacklist1=['ckan','.kibana_task_manager','cha','kibana_sample_data_flights','.security-7','.kibana_1','transacciones_cha']"
   ]
  },
  {
   "cell_type": "code",
   "execution_count": 81,
   "metadata": {
    "scrolled": true
   },
   "outputs": [],
   "source": [
    "blacklist2=['sucursales_cha','ckan_bare','.kibana_task_manager','cha','kibana_sample_data_flights','.security-7','.kibana_1','transacciones_cha']"
   ]
  },
  {
   "cell_type": "code",
   "execution_count": 44,
   "metadata": {},
   "outputs": [
    {
     "name": "stdout",
     "output_type": "stream",
     "text": [
      "\u001b[0m\u001b[01;34mtables\u001b[0m/\r\n"
     ]
    }
   ],
   "source": [
    "ls source/_sections/_static/"
   ]
  },
  {
   "cell_type": "code",
   "execution_count": 117,
   "metadata": {},
   "outputs": [],
   "source": [
    "args={'data_dict_title':'Example Data Dictionary', \n",
    "      'rootdir':\"_static/\",\n",
    "      'source_path':\"source/index.rst\",\n",
    "      'sections_path':\"source/_sections/{}.rst\",\n",
    "      'dbpaths':\"<../_sections/{}>\",\n",
    "      'INDEXpaths':\"<../_sections/{}>\",\n",
    "      'tables_rst_path':\"../_static/tables/{}.html\",\n",
    "      'actual_tables_path':'source/_static/tables/{}.html',\n",
    "      'elastic_connection':es,\n",
    "      \n",
    "      'index_template':'templates/index.rst',\n",
    "                    'section_template':'templates/section.rst',\n",
    "                    'sections_template':'templates/sections.rst',\n",
    "      'sep':'---',\n",
    "      \n",
    "      'DBases':{ 1: {\n",
    "          \n",
    "          'DBname':'Elasticsearch',\n",
    "          'DBconnection': es,\n",
    "          'blacklist':blacklist1,\n",
    "          'DBdescription':'First DB Example'\n",
    "          \n",
    "          \n",
    "      },  2:{\n",
    "                \n",
    "          'DBname':'Elasticsearch 2',\n",
    "          'DBconnection': es,\n",
    "          'blacklist':blacklist2,\n",
    "          'DBdescription':'Second DB Example'\n",
    "                   \n",
    "         }\n",
    "          \n",
    "      }\n",
    "     }"
   ]
  },
  {
   "cell_type": "code",
   "execution_count": 124,
   "metadata": {},
   "outputs": [
    {
     "name": "stdout",
     "output_type": "stream",
     "text": [
      "saving table: source/_static/tables/Elasticsearch-cha_sucursales.html\n",
      "saving table: source/_static/tables/Elasticsearch-ckan_bare.html\n",
      "saving table: source/_static/tables/Elasticsearch_2-ckan.html\n",
      "saving table: source/_static/tables/Elasticsearch_2-cha_sucursales.html\n",
      "N°Documents before indexing :147\n",
      "generating bulk data for indexing data dict into Elasticsearch\n",
      "creando paquetes de data bulk\n",
      "size of bulk docs is : 0.09375 Kbs\n",
      "N° docs: 147.0, N° chunks: 1\n",
      "clearing index\n",
      "creating 'data_dict' index...\n",
      " response: '{'acknowledged': True, 'shards_acknowledged': True, 'index': 'data_dict'}'\n",
      "executing bulk index\n",
      "bulk indexing...:index---> data_dict\n",
      " indexing chunk : 0 of 1finished bulk indexing\n",
      "No recorded ES indexing errors\n",
      "No recorded ES indexing exceptions\n",
      "safety check: counting indexed documents\n",
      "[{'epoch': '1591167361', 'timestamp': '06:56:01', 'count': '147'}]\n"
     ]
    }
   ],
   "source": [
    "DD=rst(args)"
   ]
  },
  {
   "cell_type": "code",
   "execution_count": null,
   "metadata": {},
   "outputs": [],
   "source": []
  }
 ],
 "metadata": {
  "kernelspec": {
   "display_name": "Python 3",
   "language": "python",
   "name": "python3"
  },
  "language_info": {
   "codemirror_mode": {
    "name": "ipython",
    "version": 3
   },
   "file_extension": ".py",
   "mimetype": "text/x-python",
   "name": "python",
   "nbconvert_exporter": "python",
   "pygments_lexer": "ipython3",
   "version": "3.7.3"
  }
 },
 "nbformat": 4,
 "nbformat_minor": 2
}
