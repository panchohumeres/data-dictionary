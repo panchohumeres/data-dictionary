{
 "cells": [
  {
   "cell_type": "code",
   "execution_count": 1,
   "metadata": {},
   "outputs": [],
   "source": [
    "import jinja2\n",
    "import types\n",
    "from elasticsearch import Elasticsearch\n",
    "import datetime\n",
    "from bson.objectid import ObjectId\n",
    "import pandas as pd\n",
    "from pymongo import MongoClient\n",
    "import os\n",
    "import sys\n",
    "from importlib import reload\n",
    "import os.path\n",
    "from os import path\n",
    "import json\n",
    "from random import randint"
   ]
  },
  {
   "cell_type": "code",
   "execution_count": 2,
   "metadata": {},
   "outputs": [],
   "source": [
    "sys.path.append('..') #agregar directorio madre del repo para poder importar librerias customizadas\n",
    "#importar librerias customizadas"
   ]
  },
  {
   "cell_type": "code",
   "execution_count": 3,
   "metadata": {},
   "outputs": [
    {
     "data": {
      "text/plain": [
       "<module 'modules.Elastic_Module' from '/home/francisco/Desktop/repos/data-dictionary/modules/Elastic_Module.py'>"
      ]
     },
     "execution_count": 3,
     "metadata": {},
     "output_type": "execute_result"
    }
   ],
   "source": [
    "import modules.Elastic_Module\n",
    "reload(modules.Elastic_Module)"
   ]
  },
  {
   "cell_type": "code",
   "execution_count": 4,
   "metadata": {},
   "outputs": [],
   "source": [
    "from modules.Elastic_Module import *"
   ]
  },
  {
   "cell_type": "code",
   "execution_count": 196,
   "metadata": {},
   "outputs": [],
   "source": [
    "import modules.rst_utils\n",
    "reload(modules.rst_utils)\n",
    "from modules.rst_utils import * #modulo para generar archivos rst de documentación"
   ]
  },
  {
   "cell_type": "code",
   "execution_count": 17,
   "metadata": {},
   "outputs": [],
   "source": [
    "#variables de entorno\n",
    "args={}\n",
    "args['elastic_user']=''\n",
    "args['elastic_psswd']=''"
   ]
  },
  {
   "cell_type": "code",
   "execution_count": 18,
   "metadata": {},
   "outputs": [
    {
     "name": "stdout",
     "output_type": "stream",
     "text": [
      "True\n"
     ]
    }
   ],
   "source": [
    "ES_HOST = \"\"\n",
    "basic_auth={'user':args['elastic_user'], 'psswd':args['elastic_psswd']}\n",
    "es=elastic_connection(ES_HOST,basic_auth=basic_auth)\n",
    "es.ping()"
   ]
  },
  {
   "cell_type": "code",
   "execution_count": 10,
   "metadata": {},
   "outputs": [],
   "source": [
    "blacklist1=['ckan','.kibana_task_manager','cha','kibana_sample_data_flights','.security-7','.kibana_1','transacciones_cha']"
   ]
  },
  {
   "cell_type": "code",
   "execution_count": 11,
   "metadata": {
    "scrolled": true
   },
   "outputs": [],
   "source": [
    "blacklist2=['sucursales_cha','ckan_bare','.kibana_task_manager','cha','kibana_sample_data_flights','.security-7','.kibana_1','transacciones_cha']"
   ]
  },
  {
   "cell_type": "code",
   "execution_count": 12,
   "metadata": {
    "scrolled": true
   },
   "outputs": [
    {
     "name": "stdout",
     "output_type": "stream",
     "text": [
      "ls: cannot access 'source/_sections/_static/': No such file or directory\r\n"
     ]
    }
   ],
   "source": [
    "ls source/_sections/_static/"
   ]
  },
  {
   "cell_type": "code",
   "execution_count": 99,
   "metadata": {},
   "outputs": [],
   "source": [
    "args={\n",
    "    'data_dict_title':'Example Data Dictionary', \n",
    "      'rootdir':\"_static/\",\n",
    "      'source_path':\"source/index.rst\",\n",
    "      'sections_path':\"source/_sections/{}.rst\",\n",
    "      'dbpaths':\"<../_sections/{}>\",\n",
    "      'INDEXpaths':\"<../_sections/{}>\",\n",
    "      'tables_rst_path':\"../_static/tables/{}.html\",\n",
    "      'actual_tables_path':'source/_static/tables/{}.html',\n",
    "      'elastic_connection':es,\n",
    "      'links':[],\n",
    "      'description':'',\n",
    "      \n",
    "      'index_template':'templates/index.rst',\n",
    "                    'section_template':'templates/section.rst',\n",
    "                    'sections_template':'templates/sections.rst',\n",
    "      'sep':'---',\n",
    "      \n",
    "      'DBases':{ 1: {\n",
    "          \n",
    "          'DBname':'Elasticsearch',\n",
    "          'DBconnection': es,\n",
    "          'blacklist':blacklist1,\n",
    "          'DBdescription':'First DB Example',\n",
    "          'DBlinks': []\n",
    "          \n",
    "          \n",
    "      },  2:{\n",
    "                \n",
    "          'DBname':'Elasticsearch 2',\n",
    "          'DBconnection': es,\n",
    "          'blacklist':blacklist2,\n",
    "          'DBdescription':'Second DB Example',\n",
    "          'DBlinks':[]\n",
    "                   \n",
    "         }\n",
    "          \n",
    "      }\n",
    "     }"
   ]
  },
  {
   "cell_type": "code",
   "execution_count": 111,
   "metadata": {},
   "outputs": [],
   "source": [
    "args['mode']='update'"
   ]
  },
  {
   "cell_type": "code",
   "execution_count": 197,
   "metadata": {},
   "outputs": [
    {
     "name": "stdout",
     "output_type": "stream",
     "text": [
      "Reading data dictionary from elasticsearch\n"
     ]
    }
   ],
   "source": [
    "DD=rst(args)"
   ]
  },
  {
   "cell_type": "code",
   "execution_count": 195,
   "metadata": {},
   "outputs": [
    {
     "data": {
      "text/plain": [
       "{1: {'DBname': 'Elasticsearch',\n",
       "  'path': 'source/_sections/Elasticsearch.rst',\n",
       "  'rst_path': '<../_sections/Elasticsearch>',\n",
       "  'DBdescription': 'First DB Example',\n",
       "  'DBlinks': [{'name': 'ETL_1', 'url': 'https//:dummy.com'},\n",
       "   {'name': 'ETL2', 'url': 'https://dummy2.com'}],\n",
       "  'section_entry': '1. Elasticsearch <../_sections/Elasticsearch>',\n",
       "  'indexes': {'cha_sucursales': {'rst_table_path': '../_static/tables/Elasticsearch-cha_sucursales.html',\n",
       "    'actual_table_path': 'source/_static/tables/Elasticsearch-cha_sucursales.html',\n",
       "    'section_path': 'source/_sections/Elasticsearch-cha_sucursales.rst',\n",
       "    'rst_section_path': '<../_sections/Elasticsearch-cha_sucursales>',\n",
       "    'section_entry': '1. cha_sucursales <../_sections/Elasticsearch-cha_sucursales>',\n",
       "    'IDXdescription': 'Branch offices of Chileatiende.',\n",
       "    'IDXlinks': [{'name': 'ETL_1', 'url': 'https//:dummy.com'},\n",
       "     {'name': 'ETL2', 'url': 'https://dummy2.com'}],\n",
       "    'rendered': '========================================\\nElasticsearch\\n========================================\\n\\ncha_sucursales\\n=============================\\n\\nBranch offices of Chileatiende.\\n\\nExternal links \\n-----------------------------\\n\\n\\n* ETL_1 : https//:dummy.com\\n \\n\\n* ETL2 : https://dummy2.com\\n \\n\\n\\nFields Dictionary\\n-----------------------------\\n    .. raw:: html\\n \\n        <iframe src=\"../_static/tables/Elasticsearch-cha_sucursales.html\" height=\"1000px\" width=\"100%\"></iframe>\\n '},\n",
       "   'ckan_bare': {'rst_table_path': '../_static/tables/Elasticsearch-ckan_bare.html',\n",
       "    'actual_table_path': 'source/_static/tables/Elasticsearch-ckan_bare.html',\n",
       "    'section_path': 'source/_sections/Elasticsearch-ckan_bare.rst',\n",
       "    'rst_section_path': '<../_sections/Elasticsearch-ckan_bare>',\n",
       "    'section_entry': '2. ckan_bare <../_sections/Elasticsearch-ckan_bare>',\n",
       "    'IDXdescription': 'Branch offices of Chileatiende.',\n",
       "    'IDXlinks': [{'name': 'ETL_1', 'url': 'https//:dummy.com'},\n",
       "     {'name': 'ETL2', 'url': 'https://dummy2.com'}],\n",
       "    'rendered': '========================================\\nElasticsearch\\n========================================\\n\\nckan_bare\\n=============================\\n\\nBranch offices of Chileatiende.\\n\\nExternal links \\n-----------------------------\\n\\n\\n* ETL_1 : https//:dummy.com\\n \\n\\n* ETL2 : https://dummy2.com\\n \\n\\n\\nFields Dictionary\\n-----------------------------\\n    .. raw:: html\\n \\n        <iframe src=\"../_static/tables/Elasticsearch-ckan_bare.html\" height=\"1000px\" width=\"100%\"></iframe>\\n '}},\n",
       "  'rendered': '=====================================\\nElasticsearch\\n=====================================\\n\\nFirst DB Example\\n\\n\\nExternal links \\n-----------------------------\\n\\n\\n* ETL_1 : https//:dummy.com\\n \\n\\n* ETL2 : https://dummy2.com\\n \\n\\n\\nIndex-Collections list\\n-----------------------------\\n\\n.. toctree::\\n   :maxdepth: 2\\n   :caption: Contents:\\n\\n\\n      1. cha_sucursales <../_sections/Elasticsearch-cha_sucursales>\\n       \\n\\n      2. ckan_bare <../_sections/Elasticsearch-ckan_bare>\\n       \\n'},\n",
       " 2: {'DBname': 'Elasticsearch 2',\n",
       "  'path': 'source/_sections/Elasticsearch_2.rst',\n",
       "  'rst_path': '<../_sections/Elasticsearch_2>',\n",
       "  'DBdescription': 'Second DB Example',\n",
       "  'DBlinks': [],\n",
       "  'section_entry': '2. Elasticsearch 2 <../_sections/Elasticsearch_2>',\n",
       "  'indexes': {'ckan': {'rst_table_path': '../_static/tables/Elasticsearch_2-ckan.html',\n",
       "    'actual_table_path': 'source/_static/tables/Elasticsearch_2-ckan.html',\n",
       "    'section_path': 'source/_sections/Elasticsearch_2-ckan.rst',\n",
       "    'rst_section_path': '<../_sections/Elasticsearch_2-ckan>',\n",
       "    'section_entry': '1. ckan <../_sections/Elasticsearch_2-ckan>',\n",
       "    'IDXdescription': [],\n",
       "    'IDXlinks': [],\n",
       "    'rendered': '========================================\\nElasticsearch 2\\n========================================\\n\\nckan\\n=============================\\n\\n[]\\n\\nExternal links \\n-----------------------------\\n\\n\\n\\nFields Dictionary\\n-----------------------------\\n    .. raw:: html\\n \\n        <iframe src=\"../_static/tables/Elasticsearch_2-ckan.html\" height=\"1000px\" width=\"100%\"></iframe>\\n '},\n",
       "   'cha_sucursales': {'rst_table_path': '../_static/tables/Elasticsearch_2-cha_sucursales.html',\n",
       "    'actual_table_path': 'source/_static/tables/Elasticsearch_2-cha_sucursales.html',\n",
       "    'section_path': 'source/_sections/Elasticsearch_2-cha_sucursales.rst',\n",
       "    'rst_section_path': '<../_sections/Elasticsearch_2-cha_sucursales>',\n",
       "    'section_entry': '2. cha_sucursales <../_sections/Elasticsearch_2-cha_sucursales>',\n",
       "    'IDXdescription': [],\n",
       "    'IDXlinks': [],\n",
       "    'rendered': '========================================\\nElasticsearch 2\\n========================================\\n\\ncha_sucursales\\n=============================\\n\\n[]\\n\\nExternal links \\n-----------------------------\\n\\n\\n\\nFields Dictionary\\n-----------------------------\\n    .. raw:: html\\n \\n        <iframe src=\"../_static/tables/Elasticsearch_2-cha_sucursales.html\" height=\"1000px\" width=\"100%\"></iframe>\\n '}},\n",
       "  'rendered': '=====================================\\nElasticsearch 2\\n=====================================\\n\\nSecond DB Example\\n\\n\\nExternal links \\n-----------------------------\\n\\n\\n\\nIndex-Collections list\\n-----------------------------\\n\\n.. toctree::\\n   :maxdepth: 2\\n   :caption: Contents:\\n\\n\\n      1. ckan <../_sections/Elasticsearch_2-ckan>\\n       \\n\\n      2. cha_sucursales <../_sections/Elasticsearch_2-cha_sucursales>\\n       \\n'}}"
      ]
     },
     "execution_count": 195,
     "metadata": {},
     "output_type": "execute_result"
    }
   ],
   "source": [
    "DD.DBases"
   ]
  }
 ],
 "metadata": {
  "kernelspec": {
   "display_name": "Python 3",
   "language": "python",
   "name": "python3"
  },
  "language_info": {
   "codemirror_mode": {
    "name": "ipython",
    "version": 3
   },
   "file_extension": ".py",
   "mimetype": "text/x-python",
   "name": "python",
   "nbconvert_exporter": "python",
   "pygments_lexer": "ipython3",
   "version": "3.7.3"
  }
 },
 "nbformat": 4,
 "nbformat_minor": 2
}
