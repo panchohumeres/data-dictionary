{
 "cells": [
  {
   "cell_type": "code",
   "execution_count": 1,
   "metadata": {},
   "outputs": [],
   "source": [
    "import jinja2\n",
    "import types\n",
    "from elasticsearch import Elasticsearch\n",
    "import datetime\n",
    "from bson.objectid import ObjectId\n",
    "import pandas as pd\n",
    "from pymongo import MongoClient\n",
    "import os\n",
    "import sys\n",
    "from importlib import reload\n",
    "import os.path\n",
    "from os import path\n",
    "import json\n",
    "from random import randint"
   ]
  },
  {
   "cell_type": "code",
   "execution_count": 2,
   "metadata": {},
   "outputs": [],
   "source": [
    "sys.path.append('..') #agregar directorio madre del repo para poder importar librerias customizadas\n",
    "#importar librerias customizadas"
   ]
  },
  {
   "cell_type": "code",
   "execution_count": 3,
   "metadata": {},
   "outputs": [
    {
     "data": {
      "text/plain": [
       "<module 'modules.Elastic_Module' from '/home/francisco/Desktop/repos/data-dictionary/modules/Elastic_Module.py'>"
      ]
     },
     "execution_count": 3,
     "metadata": {},
     "output_type": "execute_result"
    }
   ],
   "source": [
    "import modules.Elastic_Module\n",
    "reload(modules.Elastic_Module)"
   ]
  },
  {
   "cell_type": "code",
   "execution_count": 4,
   "metadata": {},
   "outputs": [],
   "source": [
    "from modules.Elastic_Module import *"
   ]
  },
  {
   "cell_type": "code",
   "execution_count": 11,
   "metadata": {},
   "outputs": [],
   "source": [
    "import modules.rst_utils\n",
    "reload(modules.rst_utils)\n",
    "from modules.rst_utils import * #modulo para generar archivos rst de documentación"
   ]
  },
  {
   "cell_type": "code",
   "execution_count": 6,
   "metadata": {},
   "outputs": [
    {
     "name": "stdout",
     "output_type": "stream",
     "text": [
      "testing elastic connection\n",
      "True\n"
     ]
    }
   ],
   "source": [
    "import args.args\n",
    "reload(args.args)\n",
    "from args.args import *"
   ]
  },
  {
   "cell_type": "code",
   "execution_count": 8,
   "metadata": {
    "tags": [
     "parameters"
    ]
   },
   "outputs": [],
   "source": [
    "mode=''"
   ]
  },
  {
   "cell_type": "code",
   "execution_count": null,
   "metadata": {},
   "outputs": [],
   "source": [
    "args['mode']=mode"
   ]
  },
  {
   "cell_type": "code",
   "execution_count": 12,
   "metadata": {},
   "outputs": [
    {
     "name": "stdout",
     "output_type": "stream",
     "text": [
      "saving table: source/_static/tables/Elasticsearch-ckan_bare.html\n",
      "saving table: source/_static/tables/Elasticsearch-cha_sucursales.html\n",
      "saving table: source/_static/tables/Elasticsearch_2-ckan.html\n",
      "saving table: source/_static/tables/Elasticsearch_2-cha_sucursales.html\n",
      "N°Documents before indexing :147\n",
      "generating bulk data for indexing data dict into Elasticsearch\n",
      "creando paquetes de data bulk\n",
      "size of bulk docs is : 0.09375 Kbs\n",
      "N° docs: 147.0, N° chunks: 1\n",
      "clearing index\n",
      "deleting 'data_dict' index...\n",
      " response: '{'acknowledged': True}'\n",
      "creating 'data_dict' index...\n",
      " response: '{'acknowledged': True, 'shards_acknowledged': True, 'index': 'data_dict'}'\n",
      "executing bulk index\n",
      "bulk indexing...:index---> data_dict\n",
      " indexing chunk : 0 of 1finished bulk indexing\n",
      "No recorded ES indexing errors\n",
      "No recorded ES indexing exceptions\n",
      "safety check: counting indexed documents\n",
      "[{'epoch': '1591507363', 'timestamp': '05:22:43', 'count': '147'}]\n"
     ]
    }
   ],
   "source": [
    "DD=rst(args)"
   ]
  }
 ],
 "metadata": {
  "celltoolbar": "Tags",
  "kernelspec": {
   "display_name": "Python 3",
   "language": "python",
   "name": "python3"
  },
  "language_info": {
   "codemirror_mode": {
    "name": "ipython",
    "version": 3
   },
   "file_extension": ".py",
   "mimetype": "text/x-python",
   "name": "python",
   "nbconvert_exporter": "python",
   "pygments_lexer": "ipython3",
   "version": "3.7.3"
  }
 },
 "nbformat": 4,
 "nbformat_minor": 2
}
