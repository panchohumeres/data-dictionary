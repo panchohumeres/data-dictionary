{
 "cells": [
  {
   "cell_type": "code",
   "execution_count": 1,
   "metadata": {
    "papermill": {
     "duration": 0.517826,
     "end_time": "2020-06-07T06:37:36.596152",
     "exception": false,
     "start_time": "2020-06-07T06:37:36.078326",
     "status": "completed"
    },
    "tags": []
   },
   "outputs": [],
   "source": [
    "import jinja2\n",
    "import types\n",
    "from elasticsearch import Elasticsearch\n",
    "import datetime\n",
    "from bson.objectid import ObjectId\n",
    "import pandas as pd\n",
    "from pymongo import MongoClient\n",
    "import os\n",
    "import sys\n",
    "from importlib import reload\n",
    "import os.path\n",
    "from os import path\n",
    "import json\n",
    "from random import randint"
   ]
  },
  {
   "cell_type": "code",
   "execution_count": 2,
   "metadata": {
    "papermill": {
     "duration": 0.010454,
     "end_time": "2020-06-07T06:37:36.611837",
     "exception": false,
     "start_time": "2020-06-07T06:37:36.601383",
     "status": "completed"
    },
    "tags": []
   },
   "outputs": [],
   "source": [
    "sys.path.append('..') #agregar directorio madre del repo para poder importar librerias customizadas\n",
    "#importar librerias customizadas"
   ]
  },
  {
   "cell_type": "code",
   "execution_count": 3,
   "metadata": {
    "papermill": {
     "duration": 0.974251,
     "end_time": "2020-06-07T06:37:37.591050",
     "exception": false,
     "start_time": "2020-06-07T06:37:36.616799",
     "status": "completed"
    },
    "tags": []
   },
   "outputs": [
    {
     "data": {
      "text/plain": [
       "<module 'modules.Elastic_Module' from '/home/francisco/Desktop/repos/data-dictionary/modules/Elastic_Module.py'>"
      ]
     },
     "execution_count": 3,
     "metadata": {},
     "output_type": "execute_result"
    }
   ],
   "source": [
    "import modules.Elastic_Module\n",
    "reload(modules.Elastic_Module)"
   ]
  },
  {
   "cell_type": "code",
   "execution_count": 4,
   "metadata": {
    "papermill": {
     "duration": 1.076618,
     "end_time": "2020-06-07T06:37:38.674749",
     "exception": false,
     "start_time": "2020-06-07T06:37:37.598131",
     "status": "completed"
    },
    "tags": []
   },
   "outputs": [],
   "source": [
    "from modules.Elastic_Module import *"
   ]
  },
  {
   "cell_type": "code",
   "execution_count": 5,
   "metadata": {
    "papermill": {
     "duration": 0.91584,
     "end_time": "2020-06-07T06:37:39.607472",
     "exception": false,
     "start_time": "2020-06-07T06:37:38.691632",
     "status": "completed"
    },
    "tags": []
   },
   "outputs": [],
   "source": [
    "import modules.rst_utils\n",
    "reload(modules.rst_utils)\n",
    "from modules.rst_utils import * #modulo para generar archivos rst de documentación"
   ]
  },
  {
   "cell_type": "code",
   "execution_count": 6,
   "metadata": {
    "papermill": {
     "duration": 1.799631,
     "end_time": "2020-06-07T06:37:41.428171",
     "exception": false,
     "start_time": "2020-06-07T06:37:39.628540",
     "status": "completed"
    },
    "tags": []
   },
   "outputs": [
    {
     "name": "stdout",
     "output_type": "stream",
     "text": [
      "testing elastic connection\n"
     ]
    },
    {
     "name": "stdout",
     "output_type": "stream",
     "text": [
      "True\n",
      "testing elastic connection\n"
     ]
    },
    {
     "name": "stdout",
     "output_type": "stream",
     "text": [
      "True\n"
     ]
    }
   ],
   "source": [
    "import args.args\n",
    "reload(args.args)\n",
    "from args.args import *"
   ]
  },
  {
   "cell_type": "code",
   "execution_count": 7,
   "metadata": {
    "papermill": {
     "duration": 0.357413,
     "end_time": "2020-06-07T06:37:41.802885",
     "exception": false,
     "start_time": "2020-06-07T06:37:41.445472",
     "status": "completed"
    },
    "tags": [
     "parameters"
    ]
   },
   "outputs": [],
   "source": [
    "mode=''"
   ]
  },
  {
   "cell_type": "code",
   "execution_count": 8,
   "metadata": {
    "papermill": {
     "duration": 1.027097,
     "end_time": "2020-06-07T06:37:42.956201",
     "exception": false,
     "start_time": "2020-06-07T06:37:41.929104",
     "status": "completed"
    },
    "tags": [
     "injected-parameters"
    ]
   },
   "outputs": [],
   "source": [
    "# Parameters\n",
    "mode = \"create\"\n"
   ]
  },
  {
   "cell_type": "code",
   "execution_count": 9,
   "metadata": {
    "papermill": {
     "duration": 0.940117,
     "end_time": "2020-06-07T06:37:43.917282",
     "exception": false,
     "start_time": "2020-06-07T06:37:42.977165",
     "status": "completed"
    },
    "tags": []
   },
   "outputs": [],
   "source": [
    "args['mode']=mode"
   ]
  },
  {
   "cell_type": "code",
   "execution_count": 10,
   "metadata": {
    "papermill": {
     "duration": 3.573927,
     "end_time": "2020-06-07T06:37:47.512119",
     "exception": false,
     "start_time": "2020-06-07T06:37:43.938192",
     "status": "completed"
    },
    "tags": []
   },
   "outputs": [
    {
     "name": "stderr",
     "output_type": "stream",
     "text": [
      "/home/francisco/Desktop/repos/data-dictionary/modules/rst_utils.py:192: FutureWarning: Sorting because non-concatenation axis is not aligned. A future version\n",
      "of pandas will change to not sort by default.\n",
      "\n",
      "To accept the future behavior, pass 'sort=False'.\n",
      "\n",
      "To retain the current behavior and silence the warning, pass 'sort=True'.\n",
      "\n",
      "  self.master_df=pd.concat(dfs)\n"
     ]
    },
    {
     "name": "stdout",
     "output_type": "stream",
     "text": [
      "saving table: source/_static/tables/Elasticsearch-ckan_bare.html\n",
      "saving table: source/_static/tables/Elasticsearch-cha_sucursales.html\n",
      "saving table: source/_static/tables/Elasticsearch_2-cha_sucursales.html\n",
      "saving table: source/_static/tables/Elasticsearch_2-ckan.html\n",
      "N°Documents before indexing :104\n",
      "generating bulk data for indexing data dict into Elasticsearch\n",
      "creando paquetes de data bulk\n",
      "size of bulk docs is : 0.09375 Kbs\n",
      "N° docs: 104.0, N° chunks: 1\n",
      "clearing index\n",
      "deleting 'data_dict' index...\n"
     ]
    },
    {
     "name": "stdout",
     "output_type": "stream",
     "text": [
      " response: '{'acknowledged': True}'\n",
      "creating 'data_dict' index...\n"
     ]
    },
    {
     "name": "stdout",
     "output_type": "stream",
     "text": [
      " response: '{'acknowledged': True, 'shards_acknowledged': True, 'index': 'data_dict'}'\n",
      "executing bulk index\n",
      "bulk indexing...:index---> data_dict\n",
      "\r",
      " indexing chunk : 0 of 1"
     ]
    },
    {
     "name": "stdout",
     "output_type": "stream",
     "text": [
      "finished bulk indexing\n",
      "No recorded ES indexing errors\n",
      "No recorded ES indexing exceptions\n",
      "safety check: counting indexed documents\n"
     ]
    },
    {
     "name": "stdout",
     "output_type": "stream",
     "text": [
      "[{'epoch': '1591511867', 'timestamp': '06:37:47', 'count': '104'}]\n"
     ]
    }
   ],
   "source": [
    "DD=rst(args)"
   ]
  }
 ],
 "metadata": {
  "celltoolbar": "Tags",
  "kernelspec": {
   "display_name": "Python 3",
   "language": "python",
   "name": "python3"
  },
  "language_info": {
   "codemirror_mode": {
    "name": "ipython",
    "version": 3
   },
   "file_extension": ".py",
   "mimetype": "text/x-python",
   "name": "python",
   "nbconvert_exporter": "python",
   "pygments_lexer": "ipython3",
   "version": "3.7.3"
  },
  "papermill": {
   "duration": 12.540468,
   "end_time": "2020-06-07T06:37:47.932337",
   "environment_variables": {},
   "exception": null,
   "input_path": "Data_dictionary.ipynb",
   "output_path": "outputs/2020.06.07-02.37.34output.ipynb",
   "parameters": {
    "mode": "create"
   },
   "start_time": "2020-06-07T06:37:35.391869",
   "version": "1.2.1"
  }
 },
 "nbformat": 4,
 "nbformat_minor": 2
}